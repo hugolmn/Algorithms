{
 "cells": [
  {
   "cell_type": "markdown",
   "metadata": {},
   "source": [
    "# Quickhull"
   ]
  },
  {
   "cell_type": "code",
   "execution_count": 9,
   "metadata": {},
   "outputs": [],
   "source": [
    "import numpy as np\n",
    "import pandas as pd\n",
    "import matplotlib.pyplot as plt"
   ]
  },
  {
   "cell_type": "code",
   "execution_count": 10,
   "metadata": {},
   "outputs": [],
   "source": [
    "def plotting_hull(points, convex_hull):\n",
    "    \"\"\"\n",
    "    Scatterplot of points and convex hull\n",
    "    \n",
    "    Parameters\n",
    "    ----------\n",
    "    points : pd.DataFrame\n",
    "        DataFrame with x and y coordinates for all points\n",
    "    convex_hull : pd.DataFrame\n",
    "        DataFrame with x and y coordinates for all points \\\n",
    "        belonging to the convex hull\n",
    "    \"\"\"\n",
    "    plt.figure(figsize=(10,6))\n",
    "    plt.scatter(data=points,\n",
    "                x='x',\n",
    "                y='y',\n",
    "                color='white',\n",
    "                linewidth=1,\n",
    "                edgecolors='black',\n",
    "                label='Inner points')\n",
    "    plt.scatter(data=convex_hull,\n",
    "                x='x',\n",
    "                y='y',\n",
    "                s=50,\n",
    "                color='black',\n",
    "                label='Convex hull points')\n",
    "    plt.plot(convex_hull.x, convex_hull.y, color='black', label='Convex hull')\n",
    "    plt.legend()\n",
    "    plt.show()"
   ]
  },
  {
   "cell_type": "code",
   "execution_count": 11,
   "metadata": {},
   "outputs": [],
   "source": [
    "def cross_product(o, a, b):\n",
    "    \"\"\"\n",
    "    Compute the cross product of  position of B compared to OA.\n",
    "    Returns True if OA and OB form a positive angle\n",
    "    \n",
    "    Parameters \n",
    "    ----------\n",
    "    o : pd.Series\n",
    "        Coordinates ('x', 'y') of point in hull\n",
    "    a : pd.Series\n",
    "        Coordinates('x', 'y') of current end_point\n",
    "    b : pd.Pandas\n",
    "        Tuple ('x', 'y') of considered point\n",
    "    \"\"\"\n",
    "    return (a[0] - o[0]) * (b[1] - o[1]) - (a[1] - o[1]) * (b[0] - o[0])"
   ]
  },
  {
   "cell_type": "code",
   "execution_count": 12,
   "metadata": {},
   "outputs": [],
   "source": [
    "def distance_from_line(p1, p2, p):\n",
    "    \"\"\"\n",
    "    Compute distance of p from line passing through p1 and p2\n",
    "    \n",
    "    Parameters\n",
    "    ----------\n",
    "    p1 : pd.Series\n",
    "        Coordinates ('x', 'y') of one point on the line\n",
    "    p2 : pd.Series\n",
    "        Coordinates ('x', 'y') of one point on the line\n",
    "    p : pd.Series\n",
    "        Coordinates ('x', 'y') of the point we want to \\ \n",
    "        calculate the distance from the line\n",
    "    \"\"\"\n",
    "    return np.abs((p2.y - p1.y) * p.x \n",
    "            - (p2.x - p1.x) * p.y \n",
    "            + p2.x * p1.y \n",
    "            - p2.y * p1.x) / np.sqrt((p2.y - p1.y)**2 + (p2.x - p1.x)**2)"
   ]
  },
  {
   "cell_type": "code",
   "execution_count": 13,
   "metadata": {},
   "outputs": [],
   "source": [
    "def findhull(points, P, Q):\n",
    "    \"\"\"\n",
    "    Parameters\n",
    "    ----------\n",
    "    points : pd.DataFrame\n",
    "        Points in subset\n",
    "    P : pd.Series\n",
    "        Coordinates('x', 'y') of one point \\\n",
    "        used to split data\n",
    "    Q : pd.Series\n",
    "        Coordinates('x', 'y') of one point \\\n",
    "        used to split data\n",
    "    \"\"\"\n",
    "    # if length is one or zero, no need to calculate further\n",
    "    if len(points) <= 1:\n",
    "        return points\n",
    "    \n",
    "    # computing distance from line passing through P and Q\n",
    "    points.loc[:,'distance_from_line'] = points.apply(\n",
    "        lambda p: distance_from_line(P, Q, p), \n",
    "        axis=1)\n",
    "    farthest_point = points.loc[points.distance_from_line.idxmax()]\n",
    "    \n",
    "    # Splitting data based on relative position with P, Q and the farthest point from PQ\n",
    "    S1 = points[points.apply(lambda p : cross_product(P, farthest_point, p), axis=1) > 0]\n",
    "    S2 = points[points.apply(lambda p : cross_product(farthest_point, Q, p) > 0, axis=1)]\n",
    "    \n",
    "    # Convex hull of set of points using recursion and splitted data\n",
    "    convex_hull = pd.DataFrame(columns=points.columns)\n",
    "    convex_hull = convex_hull.append(farthest_point)\n",
    "    convex_hull = pd.concat([\n",
    "        findhull(S1, P, farthest_point), \n",
    "        convex_hull, \n",
    "        findhull(S2, farthest_point, Q)])\n",
    "    \n",
    "    return convex_hull"
   ]
  },
  {
   "cell_type": "code",
   "execution_count": 14,
   "metadata": {},
   "outputs": [],
   "source": [
    "def quickhull(points):\n",
    "    \"\"\"\n",
    "    Computes convex hull of a given set of points\n",
    "    \n",
    "    Parameters\n",
    "    ----------\n",
    "    points : pd.DataFrame\n",
    "        DataFrame with x and y coordinates for all points to consider\n",
    "    \"\"\"\n",
    "    # initial points on hull    \n",
    "    A = points.loc[points.x.idxmin()]\n",
    "    B = points.loc[points.x.idxmax()]\n",
    "    convex_hull = pd.DataFrame(columns=points.columns)\n",
    "    \n",
    "    # splitting set of points\n",
    "    points['cross_product'] = points.apply(lambda p : cross_product(A, B, p), axis=1)\n",
    "    S1 = points[points['cross_product'] > 0]\n",
    "    S2 = points[points['cross_product'] < 0]\n",
    "    \n",
    "    # Recursion for finding points on hull\n",
    "    convex_hull = convex_hull.append(A)\n",
    "    convex_hull = pd.concat([convex_hull, findhull(S1, A, B)], sort=True)\n",
    "    convex_hull = convex_hull.append(B)\n",
    "    convex_hull = pd.concat([convex_hull, findhull(S2, B, A)], sort=True)\n",
    "    convex_hull = convex_hull.append(A)\n",
    "    \n",
    "    # plotting results\n",
    "    plotting_hull(points, convex_hull)"
   ]
  },
  {
   "cell_type": "code",
   "execution_count": 15,
   "metadata": {},
   "outputs": [
    {
     "data": {
      "image/png": "[encoded data removed]",
      "text/plain": [
       "<Figure size 720x432 with 1 Axes>"
      ]
     },
     "metadata": {
      "needs_background": "light"
     },
     "output_type": "display_data"
    }
   ],
   "source": [
    "points = pd.DataFrame(np.random.normal(size=(100, 2)), columns=['x', 'y'])\n",
    "quickhull(points)"
   ]
  }
 ],
 "metadata": {
  "kernelspec": {
   "display_name": "Python 3",
   "language": "python",
   "name": "python3"
  },
  "language_info": {
   "codemirror_mode": {
    "name": "ipython",
    "version": 3
   },
   "file_extension": ".py",
   "mimetype": "text/x-python",
   "name": "python",
   "nbconvert_exporter": "python",
   "pygments_lexer": "ipython3",
   "version": "3.7.3"
  }
 },
 "nbformat": 4,
 "nbformat_minor": 4
}

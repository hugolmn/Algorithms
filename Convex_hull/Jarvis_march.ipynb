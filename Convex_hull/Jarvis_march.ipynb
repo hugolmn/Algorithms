{
 "cells": [
  {
   "cell_type": "code",
   "execution_count": 1,
   "metadata": {},
   "outputs": [],
   "source": [
    "import numpy as np\n",
    "import pandas as pd\n",
    "import matplotlib.pyplot as plt"
   ]
  },
  {
   "cell_type": "code",
   "execution_count": 19,
   "metadata": {},
   "outputs": [],
   "source": [
    "def is_left_of_line(p, hull, end):\n",
    "    \"\"\"\n",
    "    Comput the relative position of p to (hull, end).\n",
    "    Returns True if p is on the left of the segment\n",
    "    \n",
    "    Parameters \n",
    "    ----------\n",
    "    p : pd.Pandas\n",
    "        Tuple ('x', 'y') of considered point\n",
    "    hull : pd.Series\n",
    "        Coordinates ('x', 'y') of point in hull\n",
    "    end : pd.Series\n",
    "        Coordinates('x', 'y') of current end_point\n",
    "    \"\"\"\n",
    "    return ((end.x - p.x) * (hull.y - p.y) - (hull.x - p.x) * (end.y - p.y)) < 0"
   ]
  },
  {
   "cell_type": "code",
   "execution_count": 24,
   "metadata": {},
   "outputs": [],
   "source": [
    "def jarvis_march(points):\n",
    "    \"\"\"\n",
    "    Compute the convex hull of 2-dimension points\n",
    "    \n",
    "    Parameters\n",
    "    ----------\n",
    "    points : pd.DataFrame\n",
    "        DataFrame with x and y coordinates for each point.\n",
    "    \"\"\"\n",
    "    \n",
    "    # leftmost point is in the convex hull set\n",
    "    leftmost_point_index = points.x.idxmin() \n",
    "    point_on_hull = points.loc[leftmost_point_index] \n",
    "    end_point = points.loc[(leftmost_point_index + 1) % len(points)] # next point randomly selected\n",
    "    convex_hull = pd.DataFrame(data=[point_on_hull], columns=points.columns) # dataframe containing convex hull set\n",
    "    \n",
    "    # while the convex hull is not fully determined\n",
    "    while not np.all(point_on_hull == end_point):\n",
    "        for p in points.itertuples(index=False):\n",
    "            if is_left_of_line(p, point_on_hull, end_point): # checks the position of p relative to (point_on_hull, end_point)\n",
    "                end_point = p # new end point if negative\n",
    "\n",
    "        # updating points to consider\n",
    "        point_on_hull = end_point\n",
    "        end_point = convex_hull.iloc[0]\n",
    "        \n",
    "        # appending point to convex_hull set\n",
    "        convex_hull = convex_hull.append(pd.DataFrame([point_on_hull], columns=convex_hull.columns), ignore_index=True)\n",
    "    \n",
    "    # scatterplot of dataset and convex hull\n",
    "    plt.figure(figsize=(10,6))\n",
    "    plt.scatter(data=points, x='x', y='y', label='Points')\n",
    "    plt.scatter(data=convex_hull, x='x', y='y', label='Convex hull set')\n",
    "    plt.legend()\n",
    "    plt.show()"
   ]
  },
  {
   "cell_type": "code",
   "execution_count": 25,
   "metadata": {},
   "outputs": [
    {
     "data": {
      "image/png": "[encoded data removed]",
      "text/plain": [
       "<Figure size 720x432 with 1 Axes>"
      ]
     },
     "metadata": {
      "needs_background": "light"
     },
     "output_type": "display_data"
    }
   ],
   "source": [
    "points = pd.DataFrame(np.random.normal(size=(100, 2)), columns=['x', 'y'])\n",
    "jarvis_march(points)"
   ]
  }
 ],
 "metadata": {
  "kernelspec": {
   "display_name": "Python 3",
   "language": "python",
   "name": "python3"
  },
  "language_info": {
   "codemirror_mode": {
    "name": "ipython",
    "version": 3
   },
   "file_extension": ".py",
   "mimetype": "text/x-python",
   "name": "python",
   "nbconvert_exporter": "python",
   "pygments_lexer": "ipython3",
   "version": "3.7.3"
  }
 },
 "nbformat": 4,
 "nbformat_minor": 4
}
